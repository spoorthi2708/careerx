{
 "cells": [
  {
   "cell_type": "code",
   "execution_count": 13,
   "id": "99a40016",
   "metadata": {},
   "outputs": [],
   "source": [
    "import pandas as pd\n",
    "import numpy as np\n"
   ]
  },
  {
   "cell_type": "code",
   "execution_count": 35,
   "id": "82687297",
   "metadata": {},
   "outputs": [],
   "source": [
    "df=pd.read_csv(\"C:\\\\Users\\\\spoorthi\\\\Downloads\\\\playtennis.csv\")\n",
    "df.head()"
   ]
  },
  {
   "cell_type": "code",
   "execution_count": 36,
   "id": "06ada76e",
   "metadata": {},
   "outputs": [],
   "source": [
    "#Data Label Encoding\n",
    "from sklearn.preprocessing import LabelEncoder"
   ]
  },
  {
   "cell_type": "code",
   "execution_count": 37,
   "id": "94a28570",
   "metadata": {},
   "outputs": [],
   "source": [
    "le=LabelEncoder()\n",
    "df.Day=df1.fit_transform(df.Day)\n",
    "df.Outlook=df1.fit_transform(df.Outlook)\n",
    "df.Temperature=df1.fit_transform(df.Temperature)\n",
    "df.Humidity=df1.fit_transform(df.Humidity)\n",
    "df.Wind=df1.fit_transform(df.Wind)\n",
    "df.PlayTennis=df1.fit_transform(df.PlayTennis)"
   ]
  },
  {
   "cell_type": "code",
   "execution_count": 38,
   "id": "7aebb058",
   "metadata": {},
   "outputs": [],
   "source": [
    "df.head()"
   ]
  },
  {
   "cell_type": "code",
   "execution_count": 39,
   "id": "5dad1652",
   "metadata": {},
   "outputs": [],
   "source": [
    "df.describe()"
   ]
  },
  {
   "cell_type": "code",
   "execution_count": 40,
   "id": "c8fc744e",
   "metadata": {},
   "outputs": [],
   "source": [
    "df.dtypes"
   ]
  },
  {
   "cell_type": "code",
   "execution_count": 41,
   "id": "bbc2365b",
   "metadata": {},
   "outputs": [],
   "source": [
    "df['Day'].unique()\n",
    "df['Outlook'].unique()\n",
    "df['Temperature'].unique()\n",
    "df['Humidity'].unique()\n",
    "df['Wind'].unique()\n",
    "df['PlayTennis'].unique()\n"
   ]
  },
  {
   "cell_type": "code",
   "execution_count": 42,
   "id": "17ecf8f1",
   "metadata": {},
   "outputs": [],
   "source": [
    "df.head()"
   ]
  },
  {
   "cell_type": "code",
   "execution_count": null,
   "id": "078c9b32",
   "metadata": {},
   "outputs": [],
   "source": []
  },
  {
   "cell_type": "code",
   "execution_count": null,
   "id": "c519623d",
   "metadata": {},
   "outputs": [],
   "source": []
  },
  {
   "cell_type": "code",
   "execution_count": null,
   "id": "0645e434",
   "metadata": {},
   "outputs": [],
   "source": []
  }
 ],
 "metadata": {
  "kernelspec": {
   "display_name": "Python 3 (ipykernel)",
   "language": "python",
   "name": "python3"
  },
  "language_info": {
   "codemirror_mode": {
    "name": "ipython",
    "version": 3
   },
   "file_extension": ".py",
   "mimetype": "text/x-python",
   "name": "python",
   "nbconvert_exporter": "python",
   "pygments_lexer": "ipython3",
   "version": "3.10.0"
  }
 },
 "nbformat": 4,
 "nbformat_minor": 5
}
